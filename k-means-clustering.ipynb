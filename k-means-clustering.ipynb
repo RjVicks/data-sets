{
 "cells": [
  {
   "cell_type": "markdown",
   "id": "7f61825d",
   "metadata": {},
   "source": [
    "# k-Means Clustering Algorithm of Water Melon Data Set\n",
    "## Data set taken from Machine Learning by Zhi-Hua Zhou."
   ]
  },
  {
   "cell_type": "markdown",
   "id": "a7ec430c",
   "metadata": {},
   "source": [
    "# Initialisations"
   ]
  },
  {
   "cell_type": "code",
   "execution_count": 47,
   "id": "c170ab6b",
   "metadata": {},
   "outputs": [],
   "source": [
    "import numpy as np\n",
    "import pandas as pd\n",
    "import matplotlib.pyplot as plt\n",
    "%matplotlib inline\n",
    "import warnings\n",
    "warnings.filterwarnings('ignore')"
   ]
  },
  {
   "cell_type": "code",
   "execution_count": 48,
   "id": "f41fdf7a",
   "metadata": {},
   "outputs": [],
   "source": [
    "file_name = \"melon.csv\"\n",
    "df = pd.read_csv(file_name)\n",
    "df = df.to_numpy()"
   ]
  },
  {
   "cell_type": "markdown",
   "id": "2e22a431",
   "metadata": {},
   "source": [
    "# Data Visualisation"
   ]
  },
  {
   "cell_type": "code",
   "execution_count": 49,
   "id": "8a95e908",
   "metadata": {},
   "outputs": [
    {
     "data": {
      "text/plain": [
       "array([0.697, 0.774, 0.634, 0.608, 0.556, 0.403, 0.481, 0.437, 0.666,\n",
       "       0.243, 0.245, 0.343, 0.639, 0.657, 0.36 , 0.593, 0.719, 0.359,\n",
       "       0.339, 0.282, 0.748, 0.714, 0.483, 0.478, 0.525, 0.751, 0.532,\n",
       "       0.473, 0.725, 0.446])"
      ]
     },
     "execution_count": 49,
     "metadata": {},
     "output_type": "execute_result"
    }
   ],
   "source": [
    "x = df[:,0]\n",
    "x"
   ]
  },
  {
   "cell_type": "code",
   "execution_count": 50,
   "id": "c28d81e0",
   "metadata": {},
   "outputs": [
    {
     "data": {
      "text/plain": [
       "array([0.46 , 0.376, 0.264, 0.318, 0.215, 0.237, 0.149, 0.211, 0.091,\n",
       "       0.267, 0.057, 0.099, 0.161, 0.198, 0.37 , 0.042, 0.103, 0.188,\n",
       "       0.241, 0.257, 0.232, 0.346, 0.312, 0.437, 0.369, 0.489, 0.472,\n",
       "       0.376, 0.445, 0.459])"
      ]
     },
     "execution_count": 50,
     "metadata": {},
     "output_type": "execute_result"
    }
   ],
   "source": [
    "y = df[:,1]\n",
    "y"
   ]
  },
  {
   "cell_type": "code",
   "execution_count": 51,
   "id": "2bc08347",
   "metadata": {},
   "outputs": [
    {
     "data": {
      "text/plain": [
       "Text(0.5, 1.0, 'Water Melon Data Set 4.0')"
      ]
     },
     "execution_count": 51,
     "metadata": {},
     "output_type": "execute_result"
    },
    {
     "data": {
      "image/png": "[encoded data removed]",
      "text/plain": [
       "<Figure size 720x720 with 1 Axes>"
      ]
     },
     "metadata": {
      "needs_background": "light"
     },
     "output_type": "display_data"
    }
   ],
   "source": [
    "plt.figure(figsize=(10,10))\n",
    "plt.scatter(x,y)\n",
    "plt.xlabel('Density')\n",
    "plt.ylabel('Sugar')\n",
    "plt.title('Water Melon Data Set 4.0')"
   ]
  },
  {
   "cell_type": "markdown",
   "id": "77702101",
   "metadata": {},
   "source": [
    "# K-Means Algorithm"
   ]
  },
  {
   "cell_type": "code",
   "execution_count": 59,
   "id": "80b53582",
   "metadata": {},
   "outputs": [
    {
     "data": {
      "text/plain": [
       "(30, 2)"
      ]
     },
     "execution_count": 59,
     "metadata": {},
     "output_type": "execute_result"
    }
   ],
   "source": [
    "df.shape"
   ]
  },
  {
   "cell_type": "code",
   "execution_count": 54,
   "id": "e96fc473",
   "metadata": {},
   "outputs": [],
   "source": [
    "def select_k_random_samples(k: int, df):\n",
    "    a = [x for x in range(df.shape[0])]\n",
    "    mu = []\n",
    "    for i in range(k):\n",
    "        mu_i = np.random.choice(a)\n",
    "        mu.append(df[mu_i])\n",
    "        a.remove(mu_i)\n",
    "    return np.array(mu)\n",
    "\n",
    "def mean_squared_error(x_1, x_2, n):\n",
    "    # n dimensional vectors x_1 and x_2\n",
    "    s = 0\n",
    "    for i in range(n):\n",
    "        s += ((x_1[i] - x_2[i]) ** 2)\n",
    "    return np.sqrt(s)"
   ]
  },
  {
   "cell_type": "code",
   "execution_count": 55,
   "id": "682041e2",
   "metadata": {},
   "outputs": [],
   "source": [
    "def k_means_clustering(k: int, df):\n",
    "    m = df.shape[0]\n",
    "    n = df.shape[1]\n",
    "    mean_vectors = select_k_random_samples(k, df)\n",
    "    \n",
    "    \n",
    "    # Iterate over the data points.\n",
    "    for iteration in range(10):\n",
    "        clusters = [[] for x in range(k)]\n",
    "        print(\"--\")\n",
    "        print(\"Iteration: \" + str(iteration))\n",
    "        distance_matrix = np.zeros(shape=(k,m))\n",
    "        for j in range(m):\n",
    "            for i in range(k):\n",
    "                distance_matrix[i,j] = mean_squared_error(mean_vectors[i], df[j], n)\n",
    "        for j in range(m):\n",
    "            # Obtain the new cluster label from distance matrix.\n",
    "            cluster_label = np.argmin(distance_matrix[:,j])\n",
    "            clusters[cluster_label].append(df[j])\n",
    "        for cluster in clusters:\n",
    "            print(len(cluster))\n",
    "            print(cluster)\n",
    "            \n",
    "        for i in range(k):\n",
    "            s = 0\n",
    "            for x in clusters[i]:\n",
    "                s += x\n",
    "            s = s / len(clusters[i])\n",
    "            mean_vectors[i] = s\n",
    "            print(mean_vectors[i])\n",
    "            \n",
    "        if iteration == 9:\n",
    "            return np.array(clusters)\n",
    "                "
   ]
  },
  {
   "cell_type": "code",
   "execution_count": 56,
   "id": "e4642cac",
   "metadata": {},
   "outputs": [
    {
     "name": "stdout",
     "output_type": "stream",
     "text": [
      "--\n",
      "Iteration: 0\n",
      "9\n",
      "[array([0.634, 0.264]), array([0.608, 0.318]), array([0.556, 0.215]), array([0.666, 0.091]), array([0.639, 0.161]), array([0.657, 0.198]), array([0.593, 0.042]), array([0.719, 0.103]), array([0.748, 0.232])]\n",
      "6\n",
      "[array([0.697, 0.46 ]), array([0.774, 0.376]), array([0.714, 0.346]), array([0.751, 0.489]), array([0.532, 0.472]), array([0.725, 0.445])]\n",
      "15\n",
      "[array([0.403, 0.237]), array([0.481, 0.149]), array([0.437, 0.211]), array([0.243, 0.267]), array([0.245, 0.057]), array([0.343, 0.099]), array([0.36, 0.37]), array([0.359, 0.188]), array([0.339, 0.241]), array([0.282, 0.257]), array([0.483, 0.312]), array([0.478, 0.437]), array([0.525, 0.369]), array([0.473, 0.376]), array([0.446, 0.459])]\n",
      "[0.64666667 0.18044444]\n",
      "[0.69883333 0.43133333]\n",
      "[0.39313333 0.2686    ]\n",
      "--\n",
      "Iteration: 1\n",
      "9\n",
      "[array([0.634, 0.264]), array([0.608, 0.318]), array([0.556, 0.215]), array([0.666, 0.091]), array([0.639, 0.161]), array([0.657, 0.198]), array([0.593, 0.042]), array([0.719, 0.103]), array([0.748, 0.232])]\n",
      "6\n",
      "[array([0.697, 0.46 ]), array([0.774, 0.376]), array([0.714, 0.346]), array([0.751, 0.489]), array([0.532, 0.472]), array([0.725, 0.445])]\n",
      "15\n",
      "[array([0.403, 0.237]), array([0.481, 0.149]), array([0.437, 0.211]), array([0.243, 0.267]), array([0.245, 0.057]), array([0.343, 0.099]), array([0.36, 0.37]), array([0.359, 0.188]), array([0.339, 0.241]), array([0.282, 0.257]), array([0.483, 0.312]), array([0.478, 0.437]), array([0.525, 0.369]), array([0.473, 0.376]), array([0.446, 0.459])]\n",
      "[0.64666667 0.18044444]\n",
      "[0.69883333 0.43133333]\n",
      "[0.39313333 0.2686    ]\n",
      "--\n",
      "Iteration: 2\n",
      "9\n",
      "[array([0.634, 0.264]), array([0.608, 0.318]), array([0.556, 0.215]), array([0.666, 0.091]), array([0.639, 0.161]), array([0.657, 0.198]), array([0.593, 0.042]), array([0.719, 0.103]), array([0.748, 0.232])]\n",
      "6\n",
      "[array([0.697, 0.46 ]), array([0.774, 0.376]), array([0.714, 0.346]), array([0.751, 0.489]), array([0.532, 0.472]), array([0.725, 0.445])]\n",
      "15\n",
      "[array([0.403, 0.237]), array([0.481, 0.149]), array([0.437, 0.211]), array([0.243, 0.267]), array([0.245, 0.057]), array([0.343, 0.099]), array([0.36, 0.37]), array([0.359, 0.188]), array([0.339, 0.241]), array([0.282, 0.257]), array([0.483, 0.312]), array([0.478, 0.437]), array([0.525, 0.369]), array([0.473, 0.376]), array([0.446, 0.459])]\n",
      "[0.64666667 0.18044444]\n",
      "[0.69883333 0.43133333]\n",
      "[0.39313333 0.2686    ]\n",
      "--\n",
      "Iteration: 3\n",
      "9\n",
      "[array([0.634, 0.264]), array([0.608, 0.318]), array([0.556, 0.215]), array([0.666, 0.091]), array([0.639, 0.161]), array([0.657, 0.198]), array([0.593, 0.042]), array([0.719, 0.103]), array([0.748, 0.232])]\n",
      "6\n",
      "[array([0.697, 0.46 ]), array([0.774, 0.376]), array([0.714, 0.346]), array([0.751, 0.489]), array([0.532, 0.472]), array([0.725, 0.445])]\n",
      "15\n",
      "[array([0.403, 0.237]), array([0.481, 0.149]), array([0.437, 0.211]), array([0.243, 0.267]), array([0.245, 0.057]), array([0.343, 0.099]), array([0.36, 0.37]), array([0.359, 0.188]), array([0.339, 0.241]), array([0.282, 0.257]), array([0.483, 0.312]), array([0.478, 0.437]), array([0.525, 0.369]), array([0.473, 0.376]), array([0.446, 0.459])]\n",
      "[0.64666667 0.18044444]\n",
      "[0.69883333 0.43133333]\n",
      "[0.39313333 0.2686    ]\n",
      "--\n",
      "Iteration: 4\n",
      "9\n",
      "[array([0.634, 0.264]), array([0.608, 0.318]), array([0.556, 0.215]), array([0.666, 0.091]), array([0.639, 0.161]), array([0.657, 0.198]), array([0.593, 0.042]), array([0.719, 0.103]), array([0.748, 0.232])]\n",
      "6\n",
      "[array([0.697, 0.46 ]), array([0.774, 0.376]), array([0.714, 0.346]), array([0.751, 0.489]), array([0.532, 0.472]), array([0.725, 0.445])]\n",
      "15\n",
      "[array([0.403, 0.237]), array([0.481, 0.149]), array([0.437, 0.211]), array([0.243, 0.267]), array([0.245, 0.057]), array([0.343, 0.099]), array([0.36, 0.37]), array([0.359, 0.188]), array([0.339, 0.241]), array([0.282, 0.257]), array([0.483, 0.312]), array([0.478, 0.437]), array([0.525, 0.369]), array([0.473, 0.376]), array([0.446, 0.459])]\n",
      "[0.64666667 0.18044444]\n",
      "[0.69883333 0.43133333]\n",
      "[0.39313333 0.2686    ]\n",
      "--\n",
      "Iteration: 5\n",
      "9\n",
      "[array([0.634, 0.264]), array([0.608, 0.318]), array([0.556, 0.215]), array([0.666, 0.091]), array([0.639, 0.161]), array([0.657, 0.198]), array([0.593, 0.042]), array([0.719, 0.103]), array([0.748, 0.232])]\n",
      "6\n",
      "[array([0.697, 0.46 ]), array([0.774, 0.376]), array([0.714, 0.346]), array([0.751, 0.489]), array([0.532, 0.472]), array([0.725, 0.445])]\n",
      "15\n",
      "[array([0.403, 0.237]), array([0.481, 0.149]), array([0.437, 0.211]), array([0.243, 0.267]), array([0.245, 0.057]), array([0.343, 0.099]), array([0.36, 0.37]), array([0.359, 0.188]), array([0.339, 0.241]), array([0.282, 0.257]), array([0.483, 0.312]), array([0.478, 0.437]), array([0.525, 0.369]), array([0.473, 0.376]), array([0.446, 0.459])]\n",
      "[0.64666667 0.18044444]\n",
      "[0.69883333 0.43133333]\n",
      "[0.39313333 0.2686    ]\n",
      "--\n",
      "Iteration: 6\n",
      "9\n",
      "[array([0.634, 0.264]), array([0.608, 0.318]), array([0.556, 0.215]), array([0.666, 0.091]), array([0.639, 0.161]), array([0.657, 0.198]), array([0.593, 0.042]), array([0.719, 0.103]), array([0.748, 0.232])]\n",
      "6\n",
      "[array([0.697, 0.46 ]), array([0.774, 0.376]), array([0.714, 0.346]), array([0.751, 0.489]), array([0.532, 0.472]), array([0.725, 0.445])]\n",
      "15\n",
      "[array([0.403, 0.237]), array([0.481, 0.149]), array([0.437, 0.211]), array([0.243, 0.267]), array([0.245, 0.057]), array([0.343, 0.099]), array([0.36, 0.37]), array([0.359, 0.188]), array([0.339, 0.241]), array([0.282, 0.257]), array([0.483, 0.312]), array([0.478, 0.437]), array([0.525, 0.369]), array([0.473, 0.376]), array([0.446, 0.459])]\n",
      "[0.64666667 0.18044444]\n",
      "[0.69883333 0.43133333]\n",
      "[0.39313333 0.2686    ]\n",
      "--\n",
      "Iteration: 7\n",
      "9\n",
      "[array([0.634, 0.264]), array([0.608, 0.318]), array([0.556, 0.215]), array([0.666, 0.091]), array([0.639, 0.161]), array([0.657, 0.198]), array([0.593, 0.042]), array([0.719, 0.103]), array([0.748, 0.232])]\n",
      "6\n",
      "[array([0.697, 0.46 ]), array([0.774, 0.376]), array([0.714, 0.346]), array([0.751, 0.489]), array([0.532, 0.472]), array([0.725, 0.445])]\n",
      "15\n",
      "[array([0.403, 0.237]), array([0.481, 0.149]), array([0.437, 0.211]), array([0.243, 0.267]), array([0.245, 0.057]), array([0.343, 0.099]), array([0.36, 0.37]), array([0.359, 0.188]), array([0.339, 0.241]), array([0.282, 0.257]), array([0.483, 0.312]), array([0.478, 0.437]), array([0.525, 0.369]), array([0.473, 0.376]), array([0.446, 0.459])]\n",
      "[0.64666667 0.18044444]\n",
      "[0.69883333 0.43133333]\n",
      "[0.39313333 0.2686    ]\n",
      "--\n",
      "Iteration: 8\n",
      "9\n",
      "[array([0.634, 0.264]), array([0.608, 0.318]), array([0.556, 0.215]), array([0.666, 0.091]), array([0.639, 0.161]), array([0.657, 0.198]), array([0.593, 0.042]), array([0.719, 0.103]), array([0.748, 0.232])]\n",
      "6\n",
      "[array([0.697, 0.46 ]), array([0.774, 0.376]), array([0.714, 0.346]), array([0.751, 0.489]), array([0.532, 0.472]), array([0.725, 0.445])]\n",
      "15\n",
      "[array([0.403, 0.237]), array([0.481, 0.149]), array([0.437, 0.211]), array([0.243, 0.267]), array([0.245, 0.057]), array([0.343, 0.099]), array([0.36, 0.37]), array([0.359, 0.188]), array([0.339, 0.241]), array([0.282, 0.257]), array([0.483, 0.312]), array([0.478, 0.437]), array([0.525, 0.369]), array([0.473, 0.376]), array([0.446, 0.459])]\n",
      "[0.64666667 0.18044444]\n",
      "[0.69883333 0.43133333]\n",
      "[0.39313333 0.2686    ]\n",
      "--\n",
      "Iteration: 9\n",
      "9\n",
      "[array([0.634, 0.264]), array([0.608, 0.318]), array([0.556, 0.215]), array([0.666, 0.091]), array([0.639, 0.161]), array([0.657, 0.198]), array([0.593, 0.042]), array([0.719, 0.103]), array([0.748, 0.232])]\n",
      "6\n",
      "[array([0.697, 0.46 ]), array([0.774, 0.376]), array([0.714, 0.346]), array([0.751, 0.489]), array([0.532, 0.472]), array([0.725, 0.445])]\n",
      "15\n",
      "[array([0.403, 0.237]), array([0.481, 0.149]), array([0.437, 0.211]), array([0.243, 0.267]), array([0.245, 0.057]), array([0.343, 0.099]), array([0.36, 0.37]), array([0.359, 0.188]), array([0.339, 0.241]), array([0.282, 0.257]), array([0.483, 0.312]), array([0.478, 0.437]), array([0.525, 0.369]), array([0.473, 0.376]), array([0.446, 0.459])]\n",
      "[0.64666667 0.18044444]\n",
      "[0.69883333 0.43133333]\n",
      "[0.39313333 0.2686    ]\n"
     ]
    }
   ],
   "source": [
    "clusters = k_means_clustering(3, df)"
   ]
  },
  {
   "cell_type": "markdown",
   "id": "c3bdeec5",
   "metadata": {},
   "source": [
    "# Cluster Visualisation"
   ]
  },
  {
   "cell_type": "code",
   "execution_count": 41,
   "id": "efa21912",
   "metadata": {},
   "outputs": [],
   "source": [
    "cluster_1 = clusters[0]\n",
    "cluster_2 = clusters[1]\n",
    "cluster_3 = clusters[2]"
   ]
  },
  {
   "cell_type": "code",
   "execution_count": 44,
   "id": "8ea739d7",
   "metadata": {},
   "outputs": [
    {
     "data": {
      "text/plain": [
       "<matplotlib.collections.PathCollection at 0x7fa187d22b20>"
      ]
     },
     "execution_count": 44,
     "metadata": {},
     "output_type": "execute_result"
    },
    {
     "data": {
      "image/png": "[encoded data removed]",
      "text/plain": [
       "<Figure size 720x720 with 1 Axes>"
      ]
     },
     "metadata": {
      "needs_background": "light"
     },
     "output_type": "display_data"
    }
   ],
   "source": [
    "plt.figure(figsize=(10,10))\n",
    "plt.scatter(cluster_1[:,0], cluster_1[:,1], color='red')\n",
    "plt.scatter(cluster_2[:,0], cluster_2[:,1], color='green')\n",
    "plt.scatter(cluster_3[:,0], cluster_3[:,1], color='blue')\n",
    "plt.xlabel('Density')\n",
    "plt.ylabel('Sugar')\n",
    "plt.title('Water Melon Data Set 4.0 with Clustering')"
   ]
  }
 ],
 "metadata": {
  "kernelspec": {
   "display_name": "Python 3 (ipykernel)",
   "language": "python",
   "name": "python3"
  },
  "language_info": {
   "codemirror_mode": {
    "name": "ipython",
    "version": 3
   },
   "file_extension": ".py",
   "mimetype": "text/x-python",
   "name": "python",
   "nbconvert_exporter": "python",
   "pygments_lexer": "ipython3",
   "version": "3.8.10"
  }
 },
 "nbformat": 4,
 "nbformat_minor": 5
}
